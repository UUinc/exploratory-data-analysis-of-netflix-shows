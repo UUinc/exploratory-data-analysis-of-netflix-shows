{
 "cells": [
  {
   "cell_type": "markdown",
   "id": "9e010215",
   "metadata": {
    "papermill": {
     "duration": 0.004249,
     "end_time": "2023-05-15T18:35:39.725781",
     "exception": false,
     "start_time": "2023-05-15T18:35:39.721532",
     "status": "completed"
    },
    "tags": []
   },
   "source": [
    "# **Exploratory Data Analysis of Netflix Shows**"
   ]
  },
  {
   "cell_type": "markdown",
   "id": "c00fa704",
   "metadata": {
    "papermill": {
     "duration": 0.003589,
     "end_time": "2023-05-15T18:35:39.733483",
     "exception": false,
     "start_time": "2023-05-15T18:35:39.729894",
     "status": "completed"
    },
    "tags": []
   },
   "source": [
    "![](https://images.ctfassets.net/y2ske730sjqp/821Wg4N9hJD8vs5FBcCGg/9eaf66123397cc61be14e40174123c40/Vector__3_.svg?w=940)\n",
    "## **Introduction**\n",
    "\n",
    "Welcome to the exploratory data analysis (EDA) of Netflix shows! In this notebook, we will dive into the dataset containing information about various shows available on Netflix. By performing EDA, we aim to gain insights, discover patterns, and uncover interesting trends within the data.\n",
    "\n",
    "Netflix has become one of the leading streaming platforms, offering a vast library of TV shows and movies across different genres. As a Netflix user or someone interested in the entertainment industry, this EDA will provide you with a better understanding of the shows available on the platform."
   ]
  },
  {
   "cell_type": "markdown",
   "id": "d997fd8c",
   "metadata": {
    "papermill": {
     "duration": 0.003541,
     "end_time": "2023-05-15T18:35:39.740884",
     "exception": false,
     "start_time": "2023-05-15T18:35:39.737343",
     "status": "completed"
    },
    "tags": []
   },
   "source": [
    "## **Data Loading and Preparation**\n",
    "\n",
    "In this section, we will import the necessary libraries for data manipulation and visualization, load the dataset into a Pandas DataFrame, and perform initial data cleaning and preprocessing steps. The dataset used for this analysis is titled \"*Netflix Shows*\" "
   ]
  },
  {
   "cell_type": "markdown",
   "id": "5f9bcf74",
   "metadata": {
    "papermill": {
     "duration": 0.003649,
     "end_time": "2023-05-15T18:35:39.748738",
     "exception": false,
     "start_time": "2023-05-15T18:35:39.745089",
     "status": "completed"
    },
    "tags": []
   },
   "source": [
    "#### Import the required libraries for data manipulation and visualization"
   ]
  },
  {
   "cell_type": "code",
   "execution_count": 1,
   "id": "832e2ed0",
   "metadata": {
    "execution": {
     "iopub.execute_input": "2023-05-15T18:35:39.759035Z",
     "iopub.status.busy": "2023-05-15T18:35:39.758590Z",
     "iopub.status.idle": "2023-05-15T18:35:41.156812Z",
     "shell.execute_reply": "2023-05-15T18:35:41.155547Z"
    },
    "papermill": {
     "duration": 1.406903,
     "end_time": "2023-05-15T18:35:41.159603",
     "exception": false,
     "start_time": "2023-05-15T18:35:39.752700",
     "status": "completed"
    },
    "tags": []
   },
   "outputs": [
    {
     "name": "stderr",
     "output_type": "stream",
     "text": [
      "/opt/conda/lib/python3.10/site-packages/scipy/__init__.py:146: UserWarning: A NumPy version >=1.16.5 and <1.23.0 is required for this version of SciPy (detected version 1.23.5\n",
      "  warnings.warn(f\"A NumPy version >={np_minversion} and <{np_maxversion}\"\n"
     ]
    }
   ],
   "source": [
    "import numpy as np\n",
    "import pandas as pd\n",
    "import matplotlib.pyplot as plt\n",
    "import seaborn as sns"
   ]
  },
  {
   "cell_type": "markdown",
   "id": "70e03cd0",
   "metadata": {
    "papermill": {
     "duration": 0.00382,
     "end_time": "2023-05-15T18:35:41.167428",
     "exception": false,
     "start_time": "2023-05-15T18:35:41.163608",
     "status": "completed"
    },
    "tags": []
   },
   "source": [
    "#### Load the \"Netflix Shows\" dataset"
   ]
  },
  {
   "cell_type": "code",
   "execution_count": 2,
   "id": "262d57e2",
   "metadata": {
    "execution": {
     "iopub.execute_input": "2023-05-15T18:35:41.177131Z",
     "iopub.status.busy": "2023-05-15T18:35:41.176718Z",
     "iopub.status.idle": "2023-05-15T18:35:41.337354Z",
     "shell.execute_reply": "2023-05-15T18:35:41.336195Z"
    },
    "papermill": {
     "duration": 0.169121,
     "end_time": "2023-05-15T18:35:41.340460",
     "exception": false,
     "start_time": "2023-05-15T18:35:41.171339",
     "status": "completed"
    },
    "tags": []
   },
   "outputs": [],
   "source": [
    "df = pd.read_csv('/kaggle/input/netflix-shows/netflix_titles.csv')"
   ]
  },
  {
   "cell_type": "markdown",
   "id": "399c2bf5",
   "metadata": {
    "papermill": {
     "duration": 0.003684,
     "end_time": "2023-05-15T18:35:41.348211",
     "exception": false,
     "start_time": "2023-05-15T18:35:41.344527",
     "status": "completed"
    },
    "tags": []
   },
   "source": [
    "## **Exploratory Data Analysis**\n",
    "\n"
   ]
  },
  {
   "cell_type": "markdown",
   "id": "b1e6c7e0",
   "metadata": {
    "papermill": {
     "duration": 0.003517,
     "end_time": "2023-05-15T18:35:41.355607",
     "exception": false,
     "start_time": "2023-05-15T18:35:41.352090",
     "status": "completed"
    },
    "tags": []
   },
   "source": [
    "## **Key Insights and Findings**"
   ]
  },
  {
   "cell_type": "markdown",
   "id": "9082d3cc",
   "metadata": {
    "papermill": {
     "duration": 0.00356,
     "end_time": "2023-05-15T18:35:41.362879",
     "exception": false,
     "start_time": "2023-05-15T18:35:41.359319",
     "status": "completed"
    },
    "tags": []
   },
   "source": [
    "## **Conclusion**"
   ]
  },
  {
   "cell_type": "markdown",
   "id": "127075d1",
   "metadata": {
    "papermill": {
     "duration": 0.003554,
     "end_time": "2023-05-15T18:35:41.370116",
     "exception": false,
     "start_time": "2023-05-15T18:35:41.366562",
     "status": "completed"
    },
    "tags": []
   },
   "source": [
    "## **Credits**\n",
    "\n",
    "We would like to acknowledge and express our gratitude to the following team members for their contributions to this EDA:\n",
    "\n",
    "* **[Yahya Lazrek](https://github.com/uuinc)**\n",
    "* **[Yousra Elbarraq](https://github.com/yousraeb)**\n",
    "* **[Ouassima Aboukhair](https://github.com/OuassimaAboukhair)**\n",
    "\n",
    "We would also like to thank **Dr. Hamza Es-samaali** for providing guidance and support throughout the project."
   ]
  },
  {
   "cell_type": "markdown",
   "id": "84951a05",
   "metadata": {
    "papermill": {
     "duration": 0.003569,
     "end_time": "2023-05-15T18:35:41.377540",
     "exception": false,
     "start_time": "2023-05-15T18:35:41.373971",
     "status": "completed"
    },
    "tags": []
   },
   "source": [
    "## **References**\n",
    "\n",
    "The dataset used for this EDA can be found at: [**Netflix Shows Dataset**](https://www.kaggle.com/datasets/poojasomavanshi/netflix-shows)"
   ]
  }
 ],
 "metadata": {
  "kernelspec": {
   "display_name": "Python 3",
   "language": "python",
   "name": "python3"
  },
  "language_info": {
   "codemirror_mode": {
    "name": "ipython",
    "version": 3
   },
   "file_extension": ".py",
   "mimetype": "text/x-python",
   "name": "python",
   "nbconvert_exporter": "python",
   "pygments_lexer": "ipython3",
   "version": "3.10.10"
  },
  "papermill": {
   "default_parameters": {},
   "duration": 15.302072,
   "end_time": "2023-05-15T18:35:42.303431",
   "environment_variables": {},
   "exception": null,
   "input_path": "__notebook__.ipynb",
   "output_path": "__notebook__.ipynb",
   "parameters": {},
   "start_time": "2023-05-15T18:35:27.001359",
   "version": "2.4.0"
  }
 },
 "nbformat": 4,
 "nbformat_minor": 5
}
