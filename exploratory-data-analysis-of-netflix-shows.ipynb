{
 "cells": [
  {
   "cell_type": "markdown",
   "id": "c777bc48",
   "metadata": {
    "papermill": {
     "duration": 0.009716,
     "end_time": "2023-05-15T19:21:51.022677",
     "exception": false,
     "start_time": "2023-05-15T19:21:51.012961",
     "status": "completed"
    },
    "tags": []
   },
   "source": [
    "# **Exploratory Data Analysis of Netflix Shows**"
   ]
  },
  {
   "cell_type": "markdown",
   "id": "868be300",
   "metadata": {
    "papermill": {
     "duration": 0.008837,
     "end_time": "2023-05-15T19:21:51.040989",
     "exception": false,
     "start_time": "2023-05-15T19:21:51.032152",
     "status": "completed"
    },
    "tags": []
   },
   "source": [
    "![](https://images.ctfassets.net/y2ske730sjqp/821Wg4N9hJD8vs5FBcCGg/9eaf66123397cc61be14e40174123c40/Vector__3_.svg?w=940)\n",
    "## **Introduction**\n",
    "\n",
    "Welcome to the exploratory data analysis (EDA) of Netflix shows! In this notebook, we will dive into the dataset containing information about various shows available on Netflix. By performing EDA, we aim to gain insights, discover patterns, and uncover interesting trends within the data.\n",
    "\n",
    "Netflix has become one of the leading streaming platforms, offering a vast library of TV shows and movies across different genres. As a Netflix user or someone interested in the entertainment industry, this EDA will provide you with a better understanding of the shows available on the platform."
   ]
  },
  {
   "cell_type": "markdown",
   "id": "a2eb7899",
   "metadata": {
    "papermill": {
     "duration": 0.008832,
     "end_time": "2023-05-15T19:21:51.058981",
     "exception": false,
     "start_time": "2023-05-15T19:21:51.050149",
     "status": "completed"
    },
    "tags": []
   },
   "source": [
    "## **Data Loading and Preparation**\n",
    "\n",
    "In this section, we will import the necessary libraries for data manipulation and visualization, load the dataset into a Pandas DataFrame, and perform initial data cleaning and preprocessing steps. The dataset used for this analysis is titled \"*Netflix Shows*\" "
   ]
  },
  {
   "cell_type": "markdown",
   "id": "5b1679c4",
   "metadata": {
    "papermill": {
     "duration": 0.009017,
     "end_time": "2023-05-15T19:21:51.077214",
     "exception": false,
     "start_time": "2023-05-15T19:21:51.068197",
     "status": "completed"
    },
    "tags": []
   },
   "source": [
    "### Import the required libraries for data manipulation and visualization"
   ]
  },
  {
   "cell_type": "code",
   "execution_count": 1,
   "id": "e61e1fa2",
   "metadata": {
    "execution": {
     "iopub.execute_input": "2023-05-15T19:21:51.097498Z",
     "iopub.status.busy": "2023-05-15T19:21:51.097070Z",
     "iopub.status.idle": "2023-05-15T19:21:52.585948Z",
     "shell.execute_reply": "2023-05-15T19:21:52.584636Z"
    },
    "papermill": {
     "duration": 1.502723,
     "end_time": "2023-05-15T19:21:52.589036",
     "exception": false,
     "start_time": "2023-05-15T19:21:51.086313",
     "status": "completed"
    },
    "tags": []
   },
   "outputs": [
    {
     "name": "stderr",
     "output_type": "stream",
     "text": [
      "/opt/conda/lib/python3.10/site-packages/scipy/__init__.py:146: UserWarning: A NumPy version >=1.16.5 and <1.23.0 is required for this version of SciPy (detected version 1.23.5\n",
      "  warnings.warn(f\"A NumPy version >={np_minversion} and <{np_maxversion}\"\n"
     ]
    }
   ],
   "source": [
    "import numpy as np\n",
    "import pandas as pd\n",
    "import matplotlib.pyplot as plt\n",
    "import seaborn as sns"
   ]
  },
  {
   "cell_type": "markdown",
   "id": "0026b6d2",
   "metadata": {
    "papermill": {
     "duration": 0.009143,
     "end_time": "2023-05-15T19:21:52.607529",
     "exception": false,
     "start_time": "2023-05-15T19:21:52.598386",
     "status": "completed"
    },
    "tags": []
   },
   "source": [
    "### Load the \"Netflix Shows\" dataset"
   ]
  },
  {
   "cell_type": "code",
   "execution_count": 2,
   "id": "7ca11bd0",
   "metadata": {
    "execution": {
     "iopub.execute_input": "2023-05-15T19:21:52.628517Z",
     "iopub.status.busy": "2023-05-15T19:21:52.627826Z",
     "iopub.status.idle": "2023-05-15T19:21:52.767774Z",
     "shell.execute_reply": "2023-05-15T19:21:52.766454Z"
    },
    "papermill": {
     "duration": 0.153987,
     "end_time": "2023-05-15T19:21:52.770848",
     "exception": false,
     "start_time": "2023-05-15T19:21:52.616861",
     "status": "completed"
    },
    "tags": []
   },
   "outputs": [],
   "source": [
    "df = pd.read_csv('/kaggle/input/netflix-shows/netflix_titles.csv')"
   ]
  },
  {
   "cell_type": "markdown",
   "id": "4b4a179c",
   "metadata": {
    "papermill": {
     "duration": 0.009175,
     "end_time": "2023-05-15T19:21:52.789493",
     "exception": false,
     "start_time": "2023-05-15T19:21:52.780318",
     "status": "completed"
    },
    "tags": []
   },
   "source": [
    "### Data Understanding"
   ]
  },
  {
   "cell_type": "code",
   "execution_count": 3,
   "id": "fcd9dfc4",
   "metadata": {
    "execution": {
     "iopub.execute_input": "2023-05-15T19:21:52.811034Z",
     "iopub.status.busy": "2023-05-15T19:21:52.810356Z",
     "iopub.status.idle": "2023-05-15T19:21:52.818995Z",
     "shell.execute_reply": "2023-05-15T19:21:52.817887Z"
    },
    "papermill": {
     "duration": 0.022183,
     "end_time": "2023-05-15T19:21:52.821359",
     "exception": false,
     "start_time": "2023-05-15T19:21:52.799176",
     "status": "completed"
    },
    "tags": []
   },
   "outputs": [
    {
     "data": {
      "text/plain": [
       "Index(['show_id', 'type', 'title', 'director', 'cast', 'country', 'date_added',\n",
       "       'release_year', 'rating', 'duration', 'listed_in', 'description'],\n",
       "      dtype='object')"
      ]
     },
     "execution_count": 3,
     "metadata": {},
     "output_type": "execute_result"
    }
   ],
   "source": [
    "df.columns"
   ]
  },
  {
   "cell_type": "code",
   "execution_count": 4,
   "id": "1ba8e439",
   "metadata": {
    "execution": {
     "iopub.execute_input": "2023-05-15T19:21:52.842548Z",
     "iopub.status.busy": "2023-05-15T19:21:52.841875Z",
     "iopub.status.idle": "2023-05-15T19:21:52.880280Z",
     "shell.execute_reply": "2023-05-15T19:21:52.879110Z"
    },
    "papermill": {
     "duration": 0.052467,
     "end_time": "2023-05-15T19:21:52.883318",
     "exception": false,
     "start_time": "2023-05-15T19:21:52.830851",
     "status": "completed"
    },
    "tags": []
   },
   "outputs": [
    {
     "data": {
      "text/html": [
       "<div>\n",
       "<style scoped>\n",
       "    .dataframe tbody tr th:only-of-type {\n",
       "        vertical-align: middle;\n",
       "    }\n",
       "\n",
       "    .dataframe tbody tr th {\n",
       "        vertical-align: top;\n",
       "    }\n",
       "\n",
       "    .dataframe thead th {\n",
       "        text-align: right;\n",
       "    }\n",
       "</style>\n",
       "<table border=\"1\" class=\"dataframe\">\n",
       "  <thead>\n",
       "    <tr style=\"text-align: right;\">\n",
       "      <th></th>\n",
       "      <th>show_id</th>\n",
       "      <th>type</th>\n",
       "      <th>title</th>\n",
       "      <th>director</th>\n",
       "      <th>cast</th>\n",
       "      <th>country</th>\n",
       "      <th>date_added</th>\n",
       "      <th>release_year</th>\n",
       "      <th>rating</th>\n",
       "      <th>duration</th>\n",
       "      <th>listed_in</th>\n",
       "      <th>description</th>\n",
       "    </tr>\n",
       "  </thead>\n",
       "  <tbody>\n",
       "    <tr>\n",
       "      <th>0</th>\n",
       "      <td>s1</td>\n",
       "      <td>Movie</td>\n",
       "      <td>Dick Johnson Is Dead</td>\n",
       "      <td>Kirsten Johnson</td>\n",
       "      <td>NaN</td>\n",
       "      <td>United States</td>\n",
       "      <td>September 25, 2021</td>\n",
       "      <td>2020</td>\n",
       "      <td>PG-13</td>\n",
       "      <td>90 min</td>\n",
       "      <td>Documentaries</td>\n",
       "      <td>As her father nears the end of his life, filmm...</td>\n",
       "    </tr>\n",
       "    <tr>\n",
       "      <th>1</th>\n",
       "      <td>s2</td>\n",
       "      <td>TV Show</td>\n",
       "      <td>Blood &amp; Water</td>\n",
       "      <td>NaN</td>\n",
       "      <td>Ama Qamata, Khosi Ngema, Gail Mabalane, Thaban...</td>\n",
       "      <td>South Africa</td>\n",
       "      <td>September 24, 2021</td>\n",
       "      <td>2021</td>\n",
       "      <td>TV-MA</td>\n",
       "      <td>2 Seasons</td>\n",
       "      <td>International TV Shows, TV Dramas, TV Mysteries</td>\n",
       "      <td>After crossing paths at a party, a Cape Town t...</td>\n",
       "    </tr>\n",
       "    <tr>\n",
       "      <th>2</th>\n",
       "      <td>s3</td>\n",
       "      <td>TV Show</td>\n",
       "      <td>Ganglands</td>\n",
       "      <td>Julien Leclercq</td>\n",
       "      <td>Sami Bouajila, Tracy Gotoas, Samuel Jouy, Nabi...</td>\n",
       "      <td>NaN</td>\n",
       "      <td>September 24, 2021</td>\n",
       "      <td>2021</td>\n",
       "      <td>TV-MA</td>\n",
       "      <td>1 Season</td>\n",
       "      <td>Crime TV Shows, International TV Shows, TV Act...</td>\n",
       "      <td>To protect his family from a powerful drug lor...</td>\n",
       "    </tr>\n",
       "    <tr>\n",
       "      <th>3</th>\n",
       "      <td>s4</td>\n",
       "      <td>TV Show</td>\n",
       "      <td>Jailbirds New Orleans</td>\n",
       "      <td>NaN</td>\n",
       "      <td>NaN</td>\n",
       "      <td>NaN</td>\n",
       "      <td>September 24, 2021</td>\n",
       "      <td>2021</td>\n",
       "      <td>TV-MA</td>\n",
       "      <td>1 Season</td>\n",
       "      <td>Docuseries, Reality TV</td>\n",
       "      <td>Feuds, flirtations and toilet talk go down amo...</td>\n",
       "    </tr>\n",
       "    <tr>\n",
       "      <th>4</th>\n",
       "      <td>s5</td>\n",
       "      <td>TV Show</td>\n",
       "      <td>Kota Factory</td>\n",
       "      <td>NaN</td>\n",
       "      <td>Mayur More, Jitendra Kumar, Ranjan Raj, Alam K...</td>\n",
       "      <td>India</td>\n",
       "      <td>September 24, 2021</td>\n",
       "      <td>2021</td>\n",
       "      <td>TV-MA</td>\n",
       "      <td>2 Seasons</td>\n",
       "      <td>International TV Shows, Romantic TV Shows, TV ...</td>\n",
       "      <td>In a city of coaching centers known to train I...</td>\n",
       "    </tr>\n",
       "  </tbody>\n",
       "</table>\n",
       "</div>"
      ],
      "text/plain": [
       "  show_id     type                  title         director  \\\n",
       "0      s1    Movie   Dick Johnson Is Dead  Kirsten Johnson   \n",
       "1      s2  TV Show          Blood & Water              NaN   \n",
       "2      s3  TV Show              Ganglands  Julien Leclercq   \n",
       "3      s4  TV Show  Jailbirds New Orleans              NaN   \n",
       "4      s5  TV Show           Kota Factory              NaN   \n",
       "\n",
       "                                                cast        country  \\\n",
       "0                                                NaN  United States   \n",
       "1  Ama Qamata, Khosi Ngema, Gail Mabalane, Thaban...   South Africa   \n",
       "2  Sami Bouajila, Tracy Gotoas, Samuel Jouy, Nabi...            NaN   \n",
       "3                                                NaN            NaN   \n",
       "4  Mayur More, Jitendra Kumar, Ranjan Raj, Alam K...          India   \n",
       "\n",
       "           date_added  release_year rating   duration  \\\n",
       "0  September 25, 2021          2020  PG-13     90 min   \n",
       "1  September 24, 2021          2021  TV-MA  2 Seasons   \n",
       "2  September 24, 2021          2021  TV-MA   1 Season   \n",
       "3  September 24, 2021          2021  TV-MA   1 Season   \n",
       "4  September 24, 2021          2021  TV-MA  2 Seasons   \n",
       "\n",
       "                                           listed_in  \\\n",
       "0                                      Documentaries   \n",
       "1    International TV Shows, TV Dramas, TV Mysteries   \n",
       "2  Crime TV Shows, International TV Shows, TV Act...   \n",
       "3                             Docuseries, Reality TV   \n",
       "4  International TV Shows, Romantic TV Shows, TV ...   \n",
       "\n",
       "                                         description  \n",
       "0  As her father nears the end of his life, filmm...  \n",
       "1  After crossing paths at a party, a Cape Town t...  \n",
       "2  To protect his family from a powerful drug lor...  \n",
       "3  Feuds, flirtations and toilet talk go down amo...  \n",
       "4  In a city of coaching centers known to train I...  "
      ]
     },
     "execution_count": 4,
     "metadata": {},
     "output_type": "execute_result"
    }
   ],
   "source": [
    "df.head()"
   ]
  },
  {
   "cell_type": "code",
   "execution_count": 5,
   "id": "61bf802a",
   "metadata": {
    "execution": {
     "iopub.execute_input": "2023-05-15T19:21:52.907980Z",
     "iopub.status.busy": "2023-05-15T19:21:52.907509Z",
     "iopub.status.idle": "2023-05-15T19:21:52.918433Z",
     "shell.execute_reply": "2023-05-15T19:21:52.917276Z"
    },
    "papermill": {
     "duration": 0.027882,
     "end_time": "2023-05-15T19:21:52.921542",
     "exception": false,
     "start_time": "2023-05-15T19:21:52.893660",
     "status": "completed"
    },
    "tags": []
   },
   "outputs": [
    {
     "data": {
      "text/plain": [
       "show_id         object\n",
       "type            object\n",
       "title           object\n",
       "director        object\n",
       "cast            object\n",
       "country         object\n",
       "date_added      object\n",
       "release_year     int64\n",
       "rating          object\n",
       "duration        object\n",
       "listed_in       object\n",
       "description     object\n",
       "dtype: object"
      ]
     },
     "execution_count": 5,
     "metadata": {},
     "output_type": "execute_result"
    }
   ],
   "source": [
    "df.dtypes"
   ]
  },
  {
   "cell_type": "markdown",
   "id": "4bfa95bd",
   "metadata": {
    "papermill": {
     "duration": 0.011177,
     "end_time": "2023-05-15T19:21:52.946370",
     "exception": false,
     "start_time": "2023-05-15T19:21:52.935193",
     "status": "completed"
    },
    "tags": []
   },
   "source": [
    "### Data Cleaning"
   ]
  },
  {
   "cell_type": "markdown",
   "id": "904ea89a",
   "metadata": {
    "papermill": {
     "duration": 0.009784,
     "end_time": "2023-05-15T19:21:52.966579",
     "exception": false,
     "start_time": "2023-05-15T19:21:52.956795",
     "status": "completed"
    },
    "tags": []
   },
   "source": [
    "To calculate the total number of missing values in each column of the DataFrame, we can use the following code:"
   ]
  },
  {
   "cell_type": "code",
   "execution_count": 6,
   "id": "e4e8415e",
   "metadata": {
    "execution": {
     "iopub.execute_input": "2023-05-15T19:21:52.989501Z",
     "iopub.status.busy": "2023-05-15T19:21:52.988225Z",
     "iopub.status.idle": "2023-05-15T19:21:53.031534Z",
     "shell.execute_reply": "2023-05-15T19:21:53.030469Z"
    },
    "papermill": {
     "duration": 0.057675,
     "end_time": "2023-05-15T19:21:53.034166",
     "exception": false,
     "start_time": "2023-05-15T19:21:52.976491",
     "status": "completed"
    },
    "tags": []
   },
   "outputs": [
    {
     "data": {
      "text/plain": [
       "show_id            0\n",
       "type               0\n",
       "title              0\n",
       "director        2634\n",
       "cast             825\n",
       "country          831\n",
       "date_added        10\n",
       "release_year       0\n",
       "rating             4\n",
       "duration           3\n",
       "listed_in          0\n",
       "description        0\n",
       "dtype: int64"
      ]
     },
     "execution_count": 6,
     "metadata": {},
     "output_type": "execute_result"
    }
   ],
   "source": [
    "df.isna().sum()"
   ]
  },
  {
   "cell_type": "markdown",
   "id": "1b5a8c25",
   "metadata": {
    "papermill": {
     "duration": 0.010206,
     "end_time": "2023-05-15T19:21:53.054669",
     "exception": false,
     "start_time": "2023-05-15T19:21:53.044463",
     "status": "completed"
    },
    "tags": []
   },
   "source": [
    "To handle these missing values, the following plan will be implemented:\n",
    "\n",
    "1. For the column '**director**', which has **2634** missing values, we will delete the entire column as it contains a significant number of missing values.\n",
    "\n",
    "2. For the columns '**cast**', '**country**', '**date_added**', '**rating**', and '**duration**', which have **825**, **831**, **10**, **4**, and **3** missing values respectively, we will delete the rows that contain missing values in these columns. By removing these rows, we can ensure that the analysis is based on complete and reliable data."
   ]
  },
  {
   "cell_type": "markdown",
   "id": "d6807620",
   "metadata": {
    "papermill": {
     "duration": 0.010283,
     "end_time": "2023-05-15T19:21:53.075284",
     "exception": false,
     "start_time": "2023-05-15T19:21:53.065001",
     "status": "completed"
    },
    "tags": []
   },
   "source": [
    "#### Handling Missing Values\n",
    "Removing Director column"
   ]
  },
  {
   "cell_type": "code",
   "execution_count": 7,
   "id": "c5d51352",
   "metadata": {
    "execution": {
     "iopub.execute_input": "2023-05-15T19:21:53.097534Z",
     "iopub.status.busy": "2023-05-15T19:21:53.097096Z",
     "iopub.status.idle": "2023-05-15T19:21:53.143931Z",
     "shell.execute_reply": "2023-05-15T19:21:53.142746Z"
    },
    "papermill": {
     "duration": 0.06091,
     "end_time": "2023-05-15T19:21:53.146319",
     "exception": false,
     "start_time": "2023-05-15T19:21:53.085409",
     "status": "completed"
    },
    "tags": []
   },
   "outputs": [
    {
     "data": {
      "text/plain": [
       "show_id           0\n",
       "type              0\n",
       "title             0\n",
       "cast            825\n",
       "country         831\n",
       "date_added       10\n",
       "release_year      0\n",
       "rating            4\n",
       "duration          3\n",
       "listed_in         0\n",
       "description       0\n",
       "dtype: int64"
      ]
     },
     "execution_count": 7,
     "metadata": {},
     "output_type": "execute_result"
    }
   ],
   "source": [
    "df = df.drop(columns=['director'])\n",
    "df.isna().sum()"
   ]
  },
  {
   "cell_type": "markdown",
   "id": "3373bcbc",
   "metadata": {
    "papermill": {
     "duration": 0.010965,
     "end_time": "2023-05-15T19:21:53.167593",
     "exception": false,
     "start_time": "2023-05-15T19:21:53.156628",
     "status": "completed"
    },
    "tags": []
   },
   "source": [
    "Removing rows with null values in Duration, Rating, Date Added, Country and Cast"
   ]
  },
  {
   "cell_type": "code",
   "execution_count": 8,
   "id": "8b7ab434",
   "metadata": {
    "execution": {
     "iopub.execute_input": "2023-05-15T19:21:53.191553Z",
     "iopub.status.busy": "2023-05-15T19:21:53.190917Z",
     "iopub.status.idle": "2023-05-15T19:21:53.259156Z",
     "shell.execute_reply": "2023-05-15T19:21:53.258258Z"
    },
    "papermill": {
     "duration": 0.082574,
     "end_time": "2023-05-15T19:21:53.261368",
     "exception": false,
     "start_time": "2023-05-15T19:21:53.178794",
     "status": "completed"
    },
    "tags": []
   },
   "outputs": [
    {
     "data": {
      "text/plain": [
       "show_id         0\n",
       "type            0\n",
       "title           0\n",
       "cast            0\n",
       "country         0\n",
       "date_added      0\n",
       "release_year    0\n",
       "rating          0\n",
       "duration        0\n",
       "listed_in       0\n",
       "description     0\n",
       "dtype: int64"
      ]
     },
     "execution_count": 8,
     "metadata": {},
     "output_type": "execute_result"
    }
   ],
   "source": [
    "df = df.dropna(axis=0, subset=['duration'])\n",
    "df = df.dropna(axis=0, subset=['rating'])\n",
    "df = df.dropna(axis=0, subset=['date_added'])\n",
    "df = df.dropna(axis=0, subset=['country'])\n",
    "df = df.dropna(axis=0, subset=['cast'])\n",
    "\n",
    "df.isna().sum()"
   ]
  },
  {
   "cell_type": "markdown",
   "id": "394d366f",
   "metadata": {
    "papermill": {
     "duration": 0.010172,
     "end_time": "2023-05-15T19:21:53.282076",
     "exception": false,
     "start_time": "2023-05-15T19:21:53.271904",
     "status": "completed"
    },
    "tags": []
   },
   "source": [
    "#### Converting 'date_added' Column\n",
    "\n",
    "To enhance the readability and consistency of the 'date_added' column in our dataset, we will be converting the existing format from \"MMMM DD, YYYY\" to the format of \"YYYY-MM-DD\". This change will allow for easier interpretation and standardize the date representation across the column."
   ]
  },
  {
   "cell_type": "code",
   "execution_count": 9,
   "id": "f0bed82b",
   "metadata": {
    "execution": {
     "iopub.execute_input": "2023-05-15T19:21:53.305657Z",
     "iopub.status.busy": "2023-05-15T19:21:53.305042Z",
     "iopub.status.idle": "2023-05-15T19:21:53.351726Z",
     "shell.execute_reply": "2023-05-15T19:21:53.350624Z"
    },
    "papermill": {
     "duration": 0.061347,
     "end_time": "2023-05-15T19:21:53.354303",
     "exception": false,
     "start_time": "2023-05-15T19:21:53.292956",
     "status": "completed"
    },
    "tags": []
   },
   "outputs": [
    {
     "data": {
      "text/html": [
       "<div>\n",
       "<style scoped>\n",
       "    .dataframe tbody tr th:only-of-type {\n",
       "        vertical-align: middle;\n",
       "    }\n",
       "\n",
       "    .dataframe tbody tr th {\n",
       "        vertical-align: top;\n",
       "    }\n",
       "\n",
       "    .dataframe thead th {\n",
       "        text-align: right;\n",
       "    }\n",
       "</style>\n",
       "<table border=\"1\" class=\"dataframe\">\n",
       "  <thead>\n",
       "    <tr style=\"text-align: right;\">\n",
       "      <th></th>\n",
       "      <th>show_id</th>\n",
       "      <th>type</th>\n",
       "      <th>title</th>\n",
       "      <th>cast</th>\n",
       "      <th>country</th>\n",
       "      <th>date_added</th>\n",
       "      <th>release_year</th>\n",
       "      <th>rating</th>\n",
       "      <th>duration</th>\n",
       "      <th>listed_in</th>\n",
       "      <th>description</th>\n",
       "    </tr>\n",
       "  </thead>\n",
       "  <tbody>\n",
       "    <tr>\n",
       "      <th>1</th>\n",
       "      <td>s2</td>\n",
       "      <td>TV Show</td>\n",
       "      <td>Blood &amp; Water</td>\n",
       "      <td>Ama Qamata, Khosi Ngema, Gail Mabalane, Thaban...</td>\n",
       "      <td>South Africa</td>\n",
       "      <td>2021-09-24</td>\n",
       "      <td>2021</td>\n",
       "      <td>TV-MA</td>\n",
       "      <td>2 Seasons</td>\n",
       "      <td>International TV Shows, TV Dramas, TV Mysteries</td>\n",
       "      <td>After crossing paths at a party, a Cape Town t...</td>\n",
       "    </tr>\n",
       "    <tr>\n",
       "      <th>4</th>\n",
       "      <td>s5</td>\n",
       "      <td>TV Show</td>\n",
       "      <td>Kota Factory</td>\n",
       "      <td>Mayur More, Jitendra Kumar, Ranjan Raj, Alam K...</td>\n",
       "      <td>India</td>\n",
       "      <td>2021-09-24</td>\n",
       "      <td>2021</td>\n",
       "      <td>TV-MA</td>\n",
       "      <td>2 Seasons</td>\n",
       "      <td>International TV Shows, Romantic TV Shows, TV ...</td>\n",
       "      <td>In a city of coaching centers known to train I...</td>\n",
       "    </tr>\n",
       "    <tr>\n",
       "      <th>7</th>\n",
       "      <td>s8</td>\n",
       "      <td>Movie</td>\n",
       "      <td>Sankofa</td>\n",
       "      <td>Kofi Ghanaba, Oyafunmike Ogunlano, Alexandra D...</td>\n",
       "      <td>United States, Ghana, Burkina Faso, United Kin...</td>\n",
       "      <td>2021-09-24</td>\n",
       "      <td>1993</td>\n",
       "      <td>TV-MA</td>\n",
       "      <td>125 min</td>\n",
       "      <td>Dramas, Independent Movies, International Movies</td>\n",
       "      <td>On a photo shoot in Ghana, an American model s...</td>\n",
       "    </tr>\n",
       "    <tr>\n",
       "      <th>8</th>\n",
       "      <td>s9</td>\n",
       "      <td>TV Show</td>\n",
       "      <td>The Great British Baking Show</td>\n",
       "      <td>Mel Giedroyc, Sue Perkins, Mary Berry, Paul Ho...</td>\n",
       "      <td>United Kingdom</td>\n",
       "      <td>2021-09-24</td>\n",
       "      <td>2021</td>\n",
       "      <td>TV-14</td>\n",
       "      <td>9 Seasons</td>\n",
       "      <td>British TV Shows, Reality TV</td>\n",
       "      <td>A talented batch of amateur bakers face off in...</td>\n",
       "    </tr>\n",
       "    <tr>\n",
       "      <th>9</th>\n",
       "      <td>s10</td>\n",
       "      <td>Movie</td>\n",
       "      <td>The Starling</td>\n",
       "      <td>Melissa McCarthy, Chris O'Dowd, Kevin Kline, T...</td>\n",
       "      <td>United States</td>\n",
       "      <td>2021-09-24</td>\n",
       "      <td>2021</td>\n",
       "      <td>PG-13</td>\n",
       "      <td>104 min</td>\n",
       "      <td>Comedies, Dramas</td>\n",
       "      <td>A woman adjusting to life after a loss contend...</td>\n",
       "    </tr>\n",
       "  </tbody>\n",
       "</table>\n",
       "</div>"
      ],
      "text/plain": [
       "  show_id     type                          title  \\\n",
       "1      s2  TV Show                  Blood & Water   \n",
       "4      s5  TV Show                   Kota Factory   \n",
       "7      s8    Movie                        Sankofa   \n",
       "8      s9  TV Show  The Great British Baking Show   \n",
       "9     s10    Movie                   The Starling   \n",
       "\n",
       "                                                cast  \\\n",
       "1  Ama Qamata, Khosi Ngema, Gail Mabalane, Thaban...   \n",
       "4  Mayur More, Jitendra Kumar, Ranjan Raj, Alam K...   \n",
       "7  Kofi Ghanaba, Oyafunmike Ogunlano, Alexandra D...   \n",
       "8  Mel Giedroyc, Sue Perkins, Mary Berry, Paul Ho...   \n",
       "9  Melissa McCarthy, Chris O'Dowd, Kevin Kline, T...   \n",
       "\n",
       "                                             country  date_added  \\\n",
       "1                                       South Africa  2021-09-24   \n",
       "4                                              India  2021-09-24   \n",
       "7  United States, Ghana, Burkina Faso, United Kin...  2021-09-24   \n",
       "8                                     United Kingdom  2021-09-24   \n",
       "9                                      United States  2021-09-24   \n",
       "\n",
       "   release_year rating   duration  \\\n",
       "1          2021  TV-MA  2 Seasons   \n",
       "4          2021  TV-MA  2 Seasons   \n",
       "7          1993  TV-MA    125 min   \n",
       "8          2021  TV-14  9 Seasons   \n",
       "9          2021  PG-13    104 min   \n",
       "\n",
       "                                           listed_in  \\\n",
       "1    International TV Shows, TV Dramas, TV Mysteries   \n",
       "4  International TV Shows, Romantic TV Shows, TV ...   \n",
       "7   Dramas, Independent Movies, International Movies   \n",
       "8                       British TV Shows, Reality TV   \n",
       "9                                   Comedies, Dramas   \n",
       "\n",
       "                                         description  \n",
       "1  After crossing paths at a party, a Cape Town t...  \n",
       "4  In a city of coaching centers known to train I...  \n",
       "7  On a photo shoot in Ghana, an American model s...  \n",
       "8  A talented batch of amateur bakers face off in...  \n",
       "9  A woman adjusting to life after a loss contend...  "
      ]
     },
     "execution_count": 9,
     "metadata": {},
     "output_type": "execute_result"
    }
   ],
   "source": [
    "df['date_added'] = pd.to_datetime(df['date_added'].str.strip(), format='%B %d, %Y').dt.strftime('%Y-%m-%d')\n",
    "df.head()"
   ]
  },
  {
   "cell_type": "markdown",
   "id": "5b9c040d",
   "metadata": {
    "papermill": {
     "duration": 0.010577,
     "end_time": "2023-05-15T19:21:53.375996",
     "exception": false,
     "start_time": "2023-05-15T19:21:53.365419",
     "status": "completed"
    },
    "tags": []
   },
   "source": [
    "## **Exploratory Data Analysis**\n",
    "\n"
   ]
  },
  {
   "cell_type": "markdown",
   "id": "14b32894",
   "metadata": {
    "papermill": {
     "duration": 0.010551,
     "end_time": "2023-05-15T19:21:53.397389",
     "exception": false,
     "start_time": "2023-05-15T19:21:53.386838",
     "status": "completed"
    },
    "tags": []
   },
   "source": [
    "### Basic Data Exploration"
   ]
  },
  {
   "cell_type": "markdown",
   "id": "f1111dff",
   "metadata": {
    "papermill": {
     "duration": 0.010411,
     "end_time": "2023-05-15T19:21:53.418599",
     "exception": false,
     "start_time": "2023-05-15T19:21:53.408188",
     "status": "completed"
    },
    "tags": []
   },
   "source": [
    "#### Total number of rows and columns in the dataset"
   ]
  },
  {
   "cell_type": "code",
   "execution_count": 10,
   "id": "e000d261",
   "metadata": {
    "execution": {
     "iopub.execute_input": "2023-05-15T19:21:53.441974Z",
     "iopub.status.busy": "2023-05-15T19:21:53.441587Z",
     "iopub.status.idle": "2023-05-15T19:21:53.448458Z",
     "shell.execute_reply": "2023-05-15T19:21:53.447360Z"
    },
    "papermill": {
     "duration": 0.021308,
     "end_time": "2023-05-15T19:21:53.450693",
     "exception": false,
     "start_time": "2023-05-15T19:21:53.429385",
     "status": "completed"
    },
    "tags": []
   },
   "outputs": [
    {
     "data": {
      "text/plain": [
       "(7290, 11)"
      ]
     },
     "execution_count": 10,
     "metadata": {},
     "output_type": "execute_result"
    }
   ],
   "source": [
    "df.shape"
   ]
  },
  {
   "cell_type": "markdown",
   "id": "0f57cf16",
   "metadata": {
    "papermill": {
     "duration": 0.010755,
     "end_time": "2023-05-15T19:21:53.472317",
     "exception": false,
     "start_time": "2023-05-15T19:21:53.461562",
     "status": "completed"
    },
    "tags": []
   },
   "source": [
    "#### Summary statistics of numerical variables (e.g., release year)"
   ]
  },
  {
   "cell_type": "code",
   "execution_count": 11,
   "id": "80603dc9",
   "metadata": {
    "execution": {
     "iopub.execute_input": "2023-05-15T19:21:53.496191Z",
     "iopub.status.busy": "2023-05-15T19:21:53.495503Z",
     "iopub.status.idle": "2023-05-15T19:21:53.512853Z",
     "shell.execute_reply": "2023-05-15T19:21:53.511621Z"
    },
    "papermill": {
     "duration": 0.032484,
     "end_time": "2023-05-15T19:21:53.515569",
     "exception": false,
     "start_time": "2023-05-15T19:21:53.483085",
     "status": "completed"
    },
    "tags": []
   },
   "outputs": [
    {
     "data": {
      "text/html": [
       "<div>\n",
       "<style scoped>\n",
       "    .dataframe tbody tr th:only-of-type {\n",
       "        vertical-align: middle;\n",
       "    }\n",
       "\n",
       "    .dataframe tbody tr th {\n",
       "        vertical-align: top;\n",
       "    }\n",
       "\n",
       "    .dataframe thead th {\n",
       "        text-align: right;\n",
       "    }\n",
       "</style>\n",
       "<table border=\"1\" class=\"dataframe\">\n",
       "  <thead>\n",
       "    <tr style=\"text-align: right;\">\n",
       "      <th></th>\n",
       "      <th>release_year</th>\n",
       "    </tr>\n",
       "  </thead>\n",
       "  <tbody>\n",
       "    <tr>\n",
       "      <th>count</th>\n",
       "      <td>7290.000000</td>\n",
       "    </tr>\n",
       "    <tr>\n",
       "      <th>mean</th>\n",
       "      <td>2013.698903</td>\n",
       "    </tr>\n",
       "    <tr>\n",
       "      <th>std</th>\n",
       "      <td>8.862822</td>\n",
       "    </tr>\n",
       "    <tr>\n",
       "      <th>min</th>\n",
       "      <td>1942.000000</td>\n",
       "    </tr>\n",
       "    <tr>\n",
       "      <th>25%</th>\n",
       "      <td>2013.000000</td>\n",
       "    </tr>\n",
       "    <tr>\n",
       "      <th>50%</th>\n",
       "      <td>2017.000000</td>\n",
       "    </tr>\n",
       "    <tr>\n",
       "      <th>75%</th>\n",
       "      <td>2019.000000</td>\n",
       "    </tr>\n",
       "    <tr>\n",
       "      <th>max</th>\n",
       "      <td>2021.000000</td>\n",
       "    </tr>\n",
       "  </tbody>\n",
       "</table>\n",
       "</div>"
      ],
      "text/plain": [
       "       release_year\n",
       "count   7290.000000\n",
       "mean    2013.698903\n",
       "std        8.862822\n",
       "min     1942.000000\n",
       "25%     2013.000000\n",
       "50%     2017.000000\n",
       "75%     2019.000000\n",
       "max     2021.000000"
      ]
     },
     "execution_count": 11,
     "metadata": {},
     "output_type": "execute_result"
    }
   ],
   "source": [
    "df.describe()"
   ]
  },
  {
   "cell_type": "markdown",
   "id": "d12a8404",
   "metadata": {
    "papermill": {
     "duration": 0.011213,
     "end_time": "2023-05-15T19:21:53.538165",
     "exception": false,
     "start_time": "2023-05-15T19:21:53.526952",
     "status": "completed"
    },
    "tags": []
   },
   "source": [
    "#### Count of unique values in categorical variables (e.g., show types, countries)"
   ]
  },
  {
   "cell_type": "code",
   "execution_count": 12,
   "id": "c4075fef",
   "metadata": {
    "execution": {
     "iopub.execute_input": "2023-05-15T19:21:53.562552Z",
     "iopub.status.busy": "2023-05-15T19:21:53.562138Z",
     "iopub.status.idle": "2023-05-15T19:21:53.579462Z",
     "shell.execute_reply": "2023-05-15T19:21:53.577606Z"
    },
    "papermill": {
     "duration": 0.032808,
     "end_time": "2023-05-15T19:21:53.582341",
     "exception": false,
     "start_time": "2023-05-15T19:21:53.549533",
     "status": "completed"
    },
    "tags": []
   },
   "outputs": [
    {
     "name": "stdout",
     "output_type": "stream",
     "text": [
      "Count of unique values in 'type' column:\n",
      "Movie      5277\n",
      "TV Show    2013\n",
      "Name: type, dtype: int64\n",
      "\n",
      "Count of unique values in 'country' column:\n",
      "United States                                2479\n",
      "India                                         940\n",
      "United Kingdom                                350\n",
      "Japan                                         238\n",
      "South Korea                                   196\n",
      "                                             ... \n",
      "Uruguay, Argentina, Germany, Spain              1\n",
      "Taiwan, Malaysia                                1\n",
      "France, South Korea, Japan, United States       1\n",
      "Kenya, United States                            1\n",
      "United Arab Emirates, Jordan                    1\n",
      "Name: country, Length: 689, dtype: int64\n"
     ]
    }
   ],
   "source": [
    "show_types_count = df['type'].value_counts()\n",
    "countries_count = df['country'].value_counts()\n",
    "\n",
    "print(\"Count of unique values in 'type' column:\")\n",
    "print(show_types_count)\n",
    "print(\"\\nCount of unique values in 'country' column:\")\n",
    "print(countries_count)"
   ]
  },
  {
   "cell_type": "markdown",
   "id": "1516a9b3",
   "metadata": {
    "papermill": {
     "duration": 0.011002,
     "end_time": "2023-05-15T19:21:53.604894",
     "exception": false,
     "start_time": "2023-05-15T19:21:53.593892",
     "status": "completed"
    },
    "tags": []
   },
   "source": [
    "***In the dataset, some rows in the 'country' column contain multiple countries separated by commas. To ensure consistency and facilitate analysis, we will modify these rows to include only the first country from the list.***"
   ]
  },
  {
   "cell_type": "code",
   "execution_count": 13,
   "id": "fc929ded",
   "metadata": {
    "execution": {
     "iopub.execute_input": "2023-05-15T19:21:53.630837Z",
     "iopub.status.busy": "2023-05-15T19:21:53.629597Z",
     "iopub.status.idle": "2023-05-15T19:21:54.256987Z",
     "shell.execute_reply": "2023-05-15T19:21:54.255654Z"
    },
    "papermill": {
     "duration": 0.643234,
     "end_time": "2023-05-15T19:21:54.259968",
     "exception": false,
     "start_time": "2023-05-15T19:21:53.616734",
     "status": "completed"
    },
    "tags": []
   },
   "outputs": [],
   "source": [
    "for index, row in df.iterrows():\n",
    "    countries = row['country'].split(',')[0]\n",
    "    df.at[index, 'country'] = countries"
   ]
  },
  {
   "cell_type": "markdown",
   "id": "83c1b5d3",
   "metadata": {
    "papermill": {
     "duration": 0.011092,
     "end_time": "2023-05-15T19:21:54.282481",
     "exception": false,
     "start_time": "2023-05-15T19:21:54.271389",
     "status": "completed"
    },
    "tags": []
   },
   "source": [
    "## **Key Insights and Findings**"
   ]
  },
  {
   "cell_type": "markdown",
   "id": "28695c7e",
   "metadata": {
    "papermill": {
     "duration": 0.010924,
     "end_time": "2023-05-15T19:21:54.304788",
     "exception": false,
     "start_time": "2023-05-15T19:21:54.293864",
     "status": "completed"
    },
    "tags": []
   },
   "source": [
    "## **Conclusion**"
   ]
  },
  {
   "cell_type": "markdown",
   "id": "725dc7ca",
   "metadata": {
    "papermill": {
     "duration": 0.01116,
     "end_time": "2023-05-15T19:21:54.327256",
     "exception": false,
     "start_time": "2023-05-15T19:21:54.316096",
     "status": "completed"
    },
    "tags": []
   },
   "source": [
    "## **Credits**\n",
    "\n",
    "We would like to acknowledge and express our gratitude to the following team members for their contributions to this EDA:\n",
    "\n",
    "* **[Yahya Lazrek](https://github.com/uuinc)**\n",
    "* **[Yousra Elbarraq](https://github.com/yousraeb)**\n",
    "* **[Ouassima Aboukhair](https://github.com/OuassimaAboukhair)**\n",
    "\n",
    "We would also like to thank **Dr. Hamza Es-samaali** for providing guidance and support throughout the project."
   ]
  },
  {
   "cell_type": "markdown",
   "id": "d3fe4f69",
   "metadata": {
    "papermill": {
     "duration": 0.01109,
     "end_time": "2023-05-15T19:21:54.349601",
     "exception": false,
     "start_time": "2023-05-15T19:21:54.338511",
     "status": "completed"
    },
    "tags": []
   },
   "source": [
    "## **References**\n",
    "\n",
    "The dataset used for this EDA can be found at: [**Netflix Shows Dataset**](https://www.kaggle.com/datasets/poojasomavanshi/netflix-shows)"
   ]
  }
 ],
 "metadata": {
  "kernelspec": {
   "display_name": "Python 3",
   "language": "python",
   "name": "python3"
  },
  "language_info": {
   "codemirror_mode": {
    "name": "ipython",
    "version": 3
   },
   "file_extension": ".py",
   "mimetype": "text/x-python",
   "name": "python",
   "nbconvert_exporter": "python",
   "pygments_lexer": "ipython3",
   "version": "3.10.10"
  },
  "papermill": {
   "default_parameters": {},
   "duration": 19.071403,
   "end_time": "2023-05-15T19:21:55.383955",
   "environment_variables": {},
   "exception": null,
   "input_path": "__notebook__.ipynb",
   "output_path": "__notebook__.ipynb",
   "parameters": {},
   "start_time": "2023-05-15T19:21:36.312552",
   "version": "2.4.0"
  }
 },
 "nbformat": 4,
 "nbformat_minor": 5
}
